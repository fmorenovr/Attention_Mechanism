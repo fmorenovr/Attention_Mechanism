{
 "cells": [
  {
   "cell_type": "markdown",
   "metadata": {},
   "source": [
    "# Tensorflow 2"
   ]
  },
  {
   "cell_type": "code",
   "execution_count": 1,
   "metadata": {
    "colab": {
     "base_uri": "https://localhost:8080/",
     "height": 367
    },
    "id": "ZfRAElFeKIp6",
    "outputId": "257556bf-b6e9-4a96-caf2-3705656f345f",
    "scrolled": true
   },
   "outputs": [],
   "source": [
    "import tensorflow as tf\n",
    "import matplotlib.pyplot as plt\n",
    "import numpy as np\n",
    "import pandas as pd\n",
    "import sys, os, time\n",
    "import cv2\n",
    "import argparse, random\n",
    "import skimage.transform\n",
    "from PIL import Image\n",
    "from tensorflow.keras.preprocessing.image import load_img, img_to_array\n",
    "from tensorflow.keras.utils import to_categorical\n",
    "\n",
    "from sklearn.model_selection import train_test_split\n",
    "from sklearn.utils import shuffle\n",
    "import scipy.io"
   ]
  },
  {
   "cell_type": "code",
   "execution_count": 2,
   "metadata": {},
   "outputs": [],
   "source": [
    "# tf.compat.v1.disable_eager_execution()"
   ]
  },
  {
   "cell_type": "code",
   "execution_count": 3,
   "metadata": {},
   "outputs": [
    {
     "name": "stdout",
     "output_type": "stream",
     "text": [
      "2.3.1\n"
     ]
    }
   ],
   "source": [
    "print(tf.__version__)"
   ]
  },
  {
   "cell_type": "code",
   "execution_count": 4,
   "metadata": {},
   "outputs": [
    {
     "name": "stdout",
     "output_type": "stream",
     "text": [
      "WARNING:tensorflow:From <ipython-input-4-ae932be897c3>:1: is_gpu_available (from tensorflow.python.framework.test_util) is deprecated and will be removed in a future version.\n",
      "Instructions for updating:\n",
      "Use `tf.config.list_physical_devices('GPU')` instead.\n",
      "True\n"
     ]
    }
   ],
   "source": [
    "print(tf.test.is_gpu_available())"
   ]
  },
  {
   "cell_type": "code",
   "execution_count": 5,
   "metadata": {},
   "outputs": [],
   "source": [
    "# Configuration\n",
    "IMG_SIZE = 112\n",
    "EPOCHS = 20\n",
    "BATCH_SIZE = 256\n",
    "BUFFER_SIZE = 1000\n",
    "\n",
    "delta = [0.05, 0.10, 0.15, 0.20, 0.25, 0.30, 0.35, 0.40, 0.45, 0.5]\n",
    "delta_i = delta[-1]\n",
    "\n",
    "PATH = os.path.abspath('.') + \"/dataset/PlacePulse\"\n",
    "IMG_PATH = PATH + \"/images/2011/\"\n",
    "LABEL_PATH = PATH + \"/labels/\"\n",
    "\n",
    "SAVE_PATH = 'saved_model'\n",
    "\n",
    "num_test_sample = 50\n",
    "num_label = 2"
   ]
  },
  {
   "cell_type": "code",
   "execution_count": 6,
   "metadata": {},
   "outputs": [],
   "source": [
    "def load_image(image_path, img_dims=[224, 224]):\n",
    "    orig = load_img(image_path, target_size=img_dims)\n",
    "    img = img_to_array(orig)/255.\n",
    "    #img = tf.keras.applications.vgg16.preprocess_input(img)\n",
    "    #img = tf.keras.applications.imagenet_utils.preprocess_input(img)\n",
    "    return img, image_path"
   ]
  },
  {
   "cell_type": "code",
   "execution_count": 7,
   "metadata": {},
   "outputs": [
    {
     "name": "stdout",
     "output_type": "stream",
     "text": [
      "     ID     y  class\n",
      "0  4340  8.35    1.0\n"
     ]
    },
    {
     "name": "stderr",
     "output_type": "stream",
     "text": [
      "/home/jenazads/anaconda3/envs/tf2/lib/python3.8/site-packages/pandas/core/indexing.py:670: SettingWithCopyWarning: \n",
      "A value is trying to be set on a copy of a slice from a DataFrame\n",
      "\n",
      "See the caveats in the documentation: https://pandas.pydata.org/pandas-docs/stable/user_guide/indexing.html#returning-a-view-versus-a-copy\n",
      "  iloc._setitem_with_indexer(indexer, value)\n"
     ]
    }
   ],
   "source": [
    "def load_labels(delta_i, labels_path=LABEL_PATH+\"features.csv\"):\n",
    "    data = pd.read_csv(labels_path)\n",
    "    data = data.loc[:,[\"ID\",\"y\"]].copy()\n",
    "    slen = len(data)\n",
    "    val = round(delta_i*slen)\n",
    "    data[\"class\"] = data['y']\n",
    "    data['class'].iloc[:val+1]=1\n",
    "    data['class'].iloc[slen-val:] = 0\n",
    "    return data\n",
    "\n",
    "data = load_labels(delta_i)\n",
    "print(data[data[\"ID\"]==4340])"
   ]
  },
  {
   "cell_type": "code",
   "execution_count": 8,
   "metadata": {},
   "outputs": [],
   "source": [
    "all_img = np.asarray([IMG_PATH+str(img)+\".jpg\" for img in data.loc[:,\"ID\"].values.copy()])\n",
    "all_labels = data.loc[:,\"class\"].copy()\n",
    "all_scores = data.loc[:,\"y\"].values.copy(), \n",
    "all_features = []\n",
    "\n",
    "for img in all_img:\n",
    "  features, _ = load_image(img, img_dims=[IMG_SIZE, IMG_SIZE])\n",
    "  all_features.append(features)\n",
    "\n",
    "all_features = np.array(all_features)\n",
    "all_labels = tf.keras.utils.to_categorical(all_labels, num_classes=2)"
   ]
  },
  {
   "cell_type": "code",
   "execution_count": 9,
   "metadata": {},
   "outputs": [],
   "source": [
    "slen = len(data)\n",
    "val = round(delta_i*slen)\n",
    "X_pos = all_features[:val+1]\n",
    "X_neg = all_features[slen-val:]\n",
    "y_pos = all_labels[:val+1]\n",
    "y_neg = all_labels[slen-val:]\n",
    "img_pos = all_img[:val+1]\n",
    "img_neg = all_img[slen-val:]"
   ]
  },
  {
   "cell_type": "code",
   "execution_count": 10,
   "metadata": {},
   "outputs": [
    {
     "name": "stdout",
     "output_type": "stream",
     "text": [
      "(927, 112, 112, 3) (310, 112, 112, 3)\n",
      "(927, 2) (310, 2)\n",
      "(927,) (310,)\n",
      "1.0 0.0\n"
     ]
    }
   ],
   "source": [
    "xtrain_pos, xtest_pos, ytrain_pos, ytest_pos = train_test_split(X_pos, y_pos, shuffle=True, test_size = 0.25, random_state=35)\n",
    "xtrain_neg, xtest_neg, ytrain_neg, ytest_neg = train_test_split(X_neg, y_neg, shuffle=True, test_size = 0.25, random_state=35)\n",
    "\n",
    "train_x = np.concatenate([xtrain_pos, xtrain_neg])\n",
    "test_x = np.concatenate([xtest_pos, xtest_neg])\n",
    "\n",
    "imgtrain_pos, imgtest_pos, ytrain_pos, ytest_pos = train_test_split(img_pos, y_pos, shuffle=True, test_size = 0.25, random_state=35)\n",
    "imgtrain_neg, imgtest_neg, ytrain_neg, ytest_neg = train_test_split(img_neg, y_neg, shuffle=True, test_size = 0.25, random_state=35)\n",
    "\n",
    "imgtrain_val = np.concatenate([imgtrain_pos, imgtrain_neg])\n",
    "imgtest = np.concatenate([imgtest_pos, imgtest_neg])\n",
    "\n",
    "train_y = np.float32(np.concatenate([ytrain_pos, ytrain_neg]))\n",
    "test_y = np.float32(np.concatenate([ytest_pos, ytest_neg]))\n",
    "\n",
    "print(train_x.shape, test_x.shape)\n",
    "print(train_y.shape, test_y.shape)\n",
    "print(imgtrain_val.shape, imgtest.shape)\n",
    "print(np.max(train_x), np.min(train_x))\n",
    "num_steps = len(imgtrain_val) // BATCH_SIZE"
   ]
  },
  {
   "cell_type": "code",
   "execution_count": 11,
   "metadata": {},
   "outputs": [
    {
     "name": "stdout",
     "output_type": "stream",
     "text": [
      "(112, 112, 3)\n"
     ]
    },
    {
     "data": {
      "image/png": "[encoded data removed]",
      "text/plain": [
       "<Figure size 432x288 with 1 Axes>"
      ]
     },
     "metadata": {
      "needs_background": "light"
     },
     "output_type": "display_data"
    },
    {
     "name": "stdout",
     "output_type": "stream",
     "text": [
      "Label: [0. 1.]\n",
      "Shape: 112x112\n"
     ]
    }
   ],
   "source": [
    "# Plotting example image\n",
    "img = train_x[0, :, :]\n",
    "print(img.shape)\n",
    "\n",
    "plt.imshow(img, cmap = 'gray')\n",
    "plt.show()\n",
    "print('Label: ' + str(train_y[0,:]))\n",
    "print('Shape: ' + str(img.shape[0]) + 'x' + str(img.shape[0]))"
   ]
  },
  {
   "cell_type": "code",
   "execution_count": 12,
   "metadata": {},
   "outputs": [],
   "source": [
    "def reset_state(batch_size, units):\n",
    "    return tf.zeros((batch_size, units))"
   ]
  },
  {
   "cell_type": "code",
   "execution_count": 13,
   "metadata": {},
   "outputs": [],
   "source": [
    "class SoftAttentionLayer(tf.keras.layers.Layer):\n",
    "  def __init__(self, units, name='AttentionLayer', **kwargs):\n",
    "    super(SoftAttentionLayer, self).__init__(name=name)\n",
    "    self.units = units\n",
    "\n",
    "    #super(SoftAttentionLayer, self).__init__(**kwargs)\n",
    "    #self.name = name\n",
    "  def build(self, input_shape):\n",
    "    self.W1 = tf.keras.layers.Dense(self.units, kernel_initializer=tf.initializers.GlorotUniform(), bias_initializer=tf.initializers.GlorotUniform())\n",
    "    self.W2 = tf.keras.layers.Dense(self.units, kernel_initializer=tf.initializers.GlorotUniform(), bias_initializer=tf.initializers.GlorotUniform())\n",
    "    self.V = tf.keras.layers.Dense(1, kernel_initializer=tf.initializers.GlorotUniform(), bias_initializer=tf.initializers.GlorotUniform())\n",
    "    \n",
    "  def call(self, features, hidden):\n",
    "    # features(CNN_encoder output) shape == (batch_size, 196, embedding_dim)\n",
    "\n",
    "    # hidden shape == (batch_size, hidden_size)\n",
    "    # hidden_with_time_axis shape == (batch_size, 1, hidden_size)\n",
    "    hidden_with_time_axis = tf.expand_dims(hidden, 1)\n",
    "\n",
    "    # score shape == (batch_size, 196, hidden_size)\n",
    "    #print(\"feature:\", features.shape)\n",
    "    #print(\"hidden:\", hidden_with_time_axis.shape)\n",
    "    score = tf.nn.tanh(self.W1(features) + self.W2(hidden_with_time_axis))\n",
    "\n",
    "    # attention_weights shape == (batch_size, 196, 1)\n",
    "    # you get 1 at the last axis because you are applying score to self.V\n",
    "    attention_weights = tf.nn.softmax(self.V(score), axis=1)\n",
    "    #attention_weights = tf.reshape(attention_weights, (-1, ))\n",
    "\n",
    "    # context_vector shape after sum == (batch_size, hidden_size)\n",
    "    context_vector = attention_weights * features\n",
    "    #print(\"weights\", attention_weights.shape, \"feat\", features.shape, \"context\", context_vector.shape)\n",
    "    context_vector = tf.reduce_sum(context_vector, axis=1)\n",
    "    #print(\"context:\", context_vector.shape)\n",
    "\n",
    "    return attention_weights, context_vector,  #alpha, z\n"
   ]
  },
  {
   "cell_type": "code",
   "execution_count": 14,
   "metadata": {
    "id": "w8s3Fxm7XojX",
    "scrolled": true
   },
   "outputs": [],
   "source": [
    "class CNN(tf.keras.Model):\n",
    "    def __init__(self, input_shape=(224, 224, 3), output_shape=2, embedding_dim=512, units=256, **kwargs):\n",
    "        super(CNN, self).__init__(**kwargs)\n",
    "        self._output_shape = output_shape  # = 2\n",
    "        self._input_shape = (None,)+input_shape\n",
    "        self.units = units\n",
    "        self.embedding_dim = embedding_dim\n",
    "\n",
    "        self.inputs = tf.keras.Input(shape=(None,)+self._input_shape)\n",
    "        self.conv_1 = tf.keras.layers.Conv2D(input_shape=self._input_shape, filters=64, kernel_size=(3,3), strides=(2,2),padding='same',use_bias=True, activation=\"relu\", name=\"conv_1\", kernel_initializer=tf.initializers.GlorotUniform(), bias_initializer=tf.initializers.GlorotUniform())\n",
    "        self.conv_2 = tf.keras.layers.Conv2D(filters=256, kernel_size=(3,3), strides=(2,2),padding='same',use_bias=True, activation=\"relu\", name=\"conv_2\", kernel_initializer=tf.initializers.GlorotUniform(), bias_initializer=tf.initializers.GlorotUniform())\n",
    "        self.conv_3 = tf.keras.layers.Conv2D(filters=embedding_dim, kernel_size=(3,3), strides=(2,2),padding='same',use_bias=True, activation=\"relu\", name=\"conv_3\", kernel_initializer=tf.initializers.GlorotUniform(), bias_initializer=tf.initializers.GlorotUniform())\n",
    "        #self.maxpool = tf.keras.layers.MaxPooling2D(pool_size=(2, 2), strides=(2,2), padding=\"same\")\n",
    "        #self.dropout_1   = tf.keras.layers.Dropout(0.25, name='dropout_1')\n",
    "        #self.flatten    = tf.keras.layers.Flatten()\n",
    "        #self.dense_1     = tf.keras.layers.Dense(self._output_shape, activation=tf.nn.linear, name=\"dense_1\")\n",
    "        #self.dropout_2   = tf.keras.layers.Dropout(0.5, name='dropout_2')\n",
    "        self.attention_1 = SoftAttentionLayer(self.units, name=\"att_1\")\n",
    "        self.LSTM_Cell_1 = tf.keras.layers.LSTMCell(self.units)\n",
    "        self.attention_2 = SoftAttentionLayer(self.units, name=\"att_2\")\n",
    "        self.LSTM_Cell_2 = tf.keras.layers.LSTMCell(self.units)\n",
    "        self.attention_3 = SoftAttentionLayer(self.units, name=\"att_3\")\n",
    "        self.LSTM_Cell_3 = tf.keras.layers.LSTMCell(self.units)\n",
    "        self.attention_4 = SoftAttentionLayer(self.units, name=\"att_4\")\n",
    "        self.LSTM_Cell_4 = tf.keras.layers.LSTMCell(self.units)#, return_sequences=True, return_state=True, recurrent_initializer='glorot_uniform')\n",
    "        #self.reset_state = reset_state\n",
    "        self.activation = tf.keras.layers.Dense(self._output_shape, activation=\"linear\", name=\"activation\", kernel_initializer=tf.initializers.GlorotUniform(), bias_initializer=tf.initializers.GlorotUniform())\n",
    "\n",
    "        #super(CNN, self).__init__(**kwargs)\n",
    "        #self.state_0 = tf.zeros((self.batch_size, self.units))\n",
    "        #self.conv_1.build((None,) + input_shape )\n",
    "        #self.conv_2.build((None,) + tuple(np.subtract(input_shape[:-1],2)) + (64,) )\n",
    "        #self.maxpool.build((None,) + tuple(np.subtract(input_shape[:-1],4)) + (256,) )\n",
    "        #self.dropout_1.build(tuple(np.floor_divide(np.subtract(input_shape[:-1],4),2)) + (256,) )\n",
    "        #self.dropout_2.build(128)\n",
    "        #self.build((self.batch_size,) + self._input_shape)\n",
    "        \n",
    "#     def build(self, input_shape):\n",
    "#         super(CNN, self).build(input_shape)\n",
    "    \n",
    "    #def call(self, input_tensor, rnn_inputs, **kwargs):\n",
    "    def call(self, input_tensor, **kwargs):\n",
    "        #input_x = self.inputs(tensor=input_tensor) -> Input\n",
    "        x = self.conv_1(input_tensor)\n",
    "        x = self.conv_2(x)\n",
    "        x = self.conv_3(x)\n",
    "        conv_size = x.get_shape()[1]\n",
    "        b_s = x.get_shape()[0]\n",
    "        conv_flat = tf.reshape(x, [-1, conv_size*conv_size, self.embedding_dim])\n",
    "        conv_unstack = tf.unstack(conv_flat, axis = 0) #1\n",
    "        x_unstack = tf.stack(conv_unstack)\n",
    "        \n",
    "        h = reset_state(b_s, self.units) #rnn_inputs[0] # output\n",
    "        c = reset_state(b_s, self.units) #rnn_inputs[1] # memmory\n",
    "        \n",
    "        alpha, z = self.attention_1(x_unstack, h)\n",
    "        lstm_input = tf.concat([z, h], axis=-1)\n",
    "        _, [h, c] = self.LSTM_Cell_1(lstm_input, [h, c])\n",
    "        \n",
    "        alpha, z = self.attention_2(x_unstack, h)\n",
    "        lstm_input = tf.concat([z, h], axis=-1)\n",
    "        _, [h, c] = self.LSTM_Cell_2(lstm_input, [h, c])\n",
    "    \n",
    "        alpha, z = self.attention_3(x_unstack, h)\n",
    "        lstm_input = tf.concat([z, h], axis=-1)\n",
    "        _, [h, c] = self.LSTM_Cell_3(lstm_input, [h, c])\n",
    "    \n",
    "        alpha, z = self.attention_4(x_unstack, h)\n",
    "        lstm_input = tf.concat([z, h], axis=-1)\n",
    "        _, [h, c] = self.LSTM_Cell_4(lstm_input, [h, c])\n",
    "\n",
    "        output = self.activation(h)\n",
    "        \n",
    "#         print(\"x\", x.get_shape())\n",
    "#         print(\"conv\", conv_flat.get_shape())\n",
    "#         print(\"unstack\", tf.stack(conv_unstack).get_shape())\n",
    "#         print(\"ünstack tensor\", tf.stack(x_unstack).get_shape())\n",
    "#         print(\"h\",h.get_shape())\n",
    "#         print(\"c\",c.get_shape())\n",
    "#         print(\"alpha\",alpha.get_shape())\n",
    "#         print(\"z\",z.get_shape())\n",
    "#         print(\"output\",output.get_shape())\n",
    "#         print(\"lstm\", lstm_input.get_shape())\n",
    "\n",
    "        return output, [h,c], alpha"
   ]
  },
  {
   "cell_type": "code",
   "execution_count": 15,
   "metadata": {},
   "outputs": [],
   "source": [
    "#encoder = Encoder((224,224,3))\n",
    "#decoder = Decoder(2)\n",
    "#model = tf.keras.Model(inputs=encoder, outputs=decoder)\n",
    "model = CNN(input_shape=(112,112,3), output_shape=2)\n",
    "#model.build()"
   ]
  },
  {
   "cell_type": "code",
   "execution_count": 16,
   "metadata": {},
   "outputs": [],
   "source": [
    "# Load the numpy files\n",
    "def map_func(img_name, cap):\n",
    "    #img_tensor, _ = load_image(img_name)\n",
    "    img_tensor = tf.reshape(img_name, ([IMG_SIZE,IMG_SIZE,3]))\n",
    "    return img_tensor, cap\n",
    "\n",
    "\n",
    "dataset_train = tf.data.Dataset.from_tensor_slices((train_x, train_y))\n",
    "\n",
    "# Use map to load the numpy files in parallel\n",
    "dataset_train = dataset_train.map(lambda item1, item2: tf.numpy_function(\n",
    "         map_func, [item1, item2], [tf.float32, tf.float32]),\n",
    "          num_parallel_calls=tf.data.experimental.AUTOTUNE)\n",
    "\n",
    "# Shuffle and batch\n",
    "dataset = dataset_train.shuffle(BUFFER_SIZE).batch(BATCH_SIZE)\n",
    "dataset = dataset.prefetch(buffer_size=tf.data.experimental.AUTOTUNE)"
   ]
  },
  {
   "cell_type": "code",
   "execution_count": 17,
   "metadata": {},
   "outputs": [],
   "source": [
    "# for obj in dataset:\n",
    "#     print(obj)"
   ]
  },
  {
   "cell_type": "code",
   "execution_count": 18,
   "metadata": {},
   "outputs": [],
   "source": [
    "lr_schedule = tf.keras.optimizers.schedules.ExponentialDecay(0.001, decay_steps=500, decay_rate=0.96, staircase=True)\n",
    "#optimizer = tf.keras.optimizers.SGD(learning_rate=lr_schedule)\n",
    "optimizer = tf.keras.optimizers.Adam(learning_rate=5e-4, epsilon=1e-8)\n",
    "#optimizer = tf.keras.optimizers.RMSprop()\n",
    "#loss_object = tf.keras.losses.MeanSquaredError()\n",
    "loss_object = tf.keras.losses.CategoricalCrossentropy()\n",
    "\n",
    "train_loss = tf.keras.metrics.Mean(name='train_loss')\n",
    "train_accuracy = tf.keras.metrics.SparseCategoricalAccuracy(name='train_accuracy')\n",
    "\n",
    "test_loss = tf.keras.metrics.Mean(name='test_loss')\n",
    "test_accuracy = tf.keras.metrics.SparseCategoricalAccuracy(name='test_accuracy')\n",
    "\n",
    "def loss_function(real, pred):\n",
    "    #pred_ = tf.nn.softmax(pred)\n",
    "    #loss_ = cost(real, pred_)\n",
    "    cost = tf.nn.sigmoid_cross_entropy_with_logits(labels = real, logits = pred)\n",
    "    return tf.reduce_mean(cost)"
   ]
  },
  {
   "cell_type": "code",
   "execution_count": 19,
   "metadata": {},
   "outputs": [],
   "source": [
    "checkpoint_path = os.path.abspath('.') + \"/checkpoints/train_xception_more_data\"\n",
    "if not os.path.exists(checkpoint_path):\n",
    "    os.makedirs(checkpoint_path)\n",
    "\n",
    "ckpt = tf.train.Checkpoint(model=model)#encoder=encoder, decoder=decoder)\n",
    "ckpt_manager = tf.train.CheckpointManager(ckpt, checkpoint_path, max_to_keep=5)"
   ]
  },
  {
   "cell_type": "code",
   "execution_count": 20,
   "metadata": {},
   "outputs": [
    {
     "name": "stdout",
     "output_type": "stream",
     "text": [
      "Restoring from previous step ...\n"
     ]
    }
   ],
   "source": [
    "start_epoch = 0\n",
    "if ckpt_manager.latest_checkpoint:\n",
    "    start_epoch = int(ckpt_manager.latest_checkpoint.split('-')[-1])\n",
    "\n",
    "if ckpt_manager.latest_checkpoint:\n",
    "    ckpt.restore(ckpt_manager.latest_checkpoint)\n",
    "    print(\"Restoring from previous step ...\")\n",
    "else:\n",
    "    print(\"Training from scratch ...\")"
   ]
  },
  {
   "cell_type": "code",
   "execution_count": 21,
   "metadata": {},
   "outputs": [],
   "source": [
    "# adding this in a separate cell because if you run the training cell\n",
    "# many times, the loss_plot array will be reset\n",
    "loss_plot = []\n",
    "\n",
    "training=True"
   ]
  },
  {
   "cell_type": "code",
   "execution_count": 22,
   "metadata": {},
   "outputs": [],
   "source": [
    "@tf.function\n",
    "def train_step(img_tensor, target):\n",
    "  loss = 0\n",
    "\n",
    "  # initializing the hidden state for each batch\n",
    "  # because the captions are not related from image to image\n",
    "  #state = model.reset_state(img_tensor.shape[0])\n",
    "  #c =  model.reset_state(img_tensor.shape[0])\n",
    "#  print(\"c\", c.get_shape())\n",
    "#  print(\"state\", c.get_shape())\n",
    "    \n",
    "  with tf.GradientTape() as tape:\n",
    "      #features = encoder(img_tensor)\n",
    "      #print(features.get_shape())\n",
    "#      for i in range(1, target.shape[1]):\n",
    "      # passing the features through the decoder\n",
    "      #predictions, [state, c], _ = decoder(features, [state, c])\n",
    "      \n",
    "      predictions, _, _ = model(img_tensor)#, [state, c])\n",
    "      \n",
    "      #print(predictions)\n",
    "      #print(\"pred\", predictions.get_shape())\n",
    "      #print(\"target\", target.get_shape())\n",
    "      loss += loss_function(target, predictions)\n",
    "    \n",
    "  total_loss = (loss / int(target.shape[1]))\n",
    "\n",
    "  trainable_variables = model.trainable_variables#encoder.trainable_variables + decoder.trainable_variables\n",
    "\n",
    "  gradients = tape.gradient(loss, trainable_variables)\n",
    "\n",
    "  optimizer.apply_gradients(zip(gradients, trainable_variables))\n",
    "\n",
    "  return loss, total_loss"
   ]
  },
  {
   "cell_type": "code",
   "execution_count": 23,
   "metadata": {},
   "outputs": [],
   "source": [
    " if training:\n",
    "    test_data_num = test_x.shape[0]\n",
    "    train_data_num = train_x.shape[0]\n",
    "    for epoch in range(2):\n",
    "        start = time.time()\n",
    "        total_loss = 0\n",
    "\n",
    "        for (batch, (img_tensor, target)) in enumerate(dataset):\n",
    "            batch_loss, t_loss = train_step(img_tensor, target)\n",
    "            total_loss += t_loss\n",
    "\n",
    "            print ('Epoch {} Batch {}: {}/{} Loss {:.8f}'.format(epoch + 1, batch, target.shape[0], train_data_num, batch_loss.numpy() / int(target.shape[1])))\n",
    "        # storing the epoch end loss value to plot later\n",
    "        loss_plot.append(total_loss / num_steps)\n",
    "\n",
    "\n",
    "        if (epoch+1)%10 ==0:\n",
    "            print(\"saving model ...\")\n",
    "            ckpt_manager.save()\n",
    "            num_correct = 0\n",
    "            print('Testing ...')\n",
    "\n",
    "            #hidden = model.reset_state(batch_size=1)\n",
    "            #c = model.reset_state(batch_size=1)\n",
    "            idx = random.sample(range(test_x.shape[0]), test_data_num)\n",
    "            for idx_sample in range(test_data_num):\n",
    "                test_x_reshape = np.reshape(test_x, ([test_x.shape[0],IMG_SIZE,IMG_SIZE,3]))\n",
    "                test_x_in = test_x_reshape[idx[idx_sample],:,:,:]\n",
    "\n",
    "                temp_input = tf.expand_dims(test_x_in, 0)\n",
    "                #features = encoder(temp_input)\n",
    "                #output_, [hidden, c], attention_weights = decoder(features, [hidden, c])\n",
    "                output_, _, _ = model(temp_input)#, [hidden, c])\n",
    "                predictions = tf.nn.softmax(output_).numpy()\n",
    "    #             print(predictions[0][:])\n",
    "    #             print(test_y[idx_sample, :])\n",
    "\n",
    "                y_test_pred = np.argmax(predictions[0][:])\n",
    "                y_test_true = np.argmax(test_y[idx[idx_sample], :])\n",
    "                if y_test_pred == y_test_true:\n",
    "                    num_correct += 1.\n",
    "\n",
    "            # Print Progress\n",
    "            print(\"Testing Accuracy: \" + str(num_correct/test_data_num))\n",
    "\n",
    "\n",
    "        print ('Epoch {} Loss {:.8f}'.format(epoch + 1, total_loss/num_steps))\n",
    "        print ('Time taken for 1 epoch {} sec\\n'.format(time.time() - start))"
   ]
  },
  {
   "cell_type": "code",
   "execution_count": 24,
   "metadata": {
    "scrolled": true
   },
   "outputs": [
    {
     "data": {
      "image/png": "[encoded data removed]",
      "text/plain": [
       "<Figure size 432x288 with 1 Axes>"
      ]
     },
     "metadata": {
      "needs_background": "light"
     },
     "output_type": "display_data"
    }
   ],
   "source": [
    "plt.plot(loss_plot)\n",
    "plt.xlabel('Epochs')\n",
    "plt.ylabel('Loss')\n",
    "plt.title('Loss Plot')\n",
    "plt.show()"
   ]
  },
  {
   "cell_type": "code",
   "execution_count": 25,
   "metadata": {},
   "outputs": [],
   "source": [
    "def evaluate(image):\n",
    "    \n",
    "    #hidden = model.reset_state(batch_size=1)\n",
    "    #c = model.reset_state(batch_size=1)\n",
    "\n",
    "    temp_input = tf.expand_dims(test_x_in, 0)\n",
    "    #features = encoder(temp_input)\n",
    "    #output_, [hidden, c], attention_weights = decoder(features, [hidden, c])\n",
    "    predictions, _, attention_weights = model(temp_input)#, [hidden, c])\n",
    "    attention_plot = attention_weights[:,:,0]#tf.reshape(attention_weights, (-1, )).numpy()\n",
    "    predictions = tf.nn.softmax(predictions).numpy()\n",
    "    result = [predictions[0]]\n",
    "\n",
    "#     for i in range(max_length):\n",
    "#         predictions, [hidden, c], attention_weights = decoder(features, [hidden, c])\n",
    "\n",
    "#         attention_plot[i] = tf.reshape(attention_weights, (-1, )).numpy()\n",
    "#         predictions = predictions.numpy()\n",
    "#         if np.sum(predictions[0]) < 0.1:\n",
    "#             break\n",
    "            \n",
    "#         result.append(predictions[0])\n",
    "\n",
    "    #attention_plot = attention_plot[:len(result), :]\n",
    "    return result, attention_plot"
   ]
  },
  {
   "cell_type": "code",
   "execution_count": 26,
   "metadata": {},
   "outputs": [],
   "source": [
    "import cv2\n",
    "import os\n",
    "def plot_attention(image, result, attention_plot):\n",
    "    temp_image = np.array(Image.open(image))\n",
    "    fig = plt.figure(figsize=(6, 6))\n",
    "\n",
    "    fname = os.path.basename(image)\n",
    "    np.save(fname, attention_plot)\n",
    "\n",
    "    len_result = len(result)\n",
    "    for l in range(len_result):\n",
    "        temp_att = np.resize(attention_plot[l], (10, 10))\n",
    "        temp_att = cv2.GaussianBlur(temp_att, (3, 3), 0)\n",
    "        ax = fig.add_subplot(len_result, 1, l+1)\n",
    "        ax.set_title(result[l])\n",
    "        img = ax.imshow(temp_image)\n",
    "        ax.imshow(temp_att, cmap='gray', alpha=0.6, extent=img.get_extent())\n",
    "\n",
    "    plt.tight_layout()\n",
    "    plt.show()"
   ]
  },
  {
   "cell_type": "code",
   "execution_count": 27,
   "metadata": {},
   "outputs": [],
   "source": [
    "# Sampling test indexes\n",
    "# idx = random.sample(range(test_x.shape[0]), num_test_sample)\n",
    "\n",
    "\n",
    "# # Test for Sampling data\n",
    "# for idx_sample in range(num_test_sample):\n",
    "#     result, attention_plot = evaluate(imgtest[idx_sample])\n",
    "\n",
    "#     #print ('Real Caption:', real_caption)\n",
    "#     #print ('Prediction Caption:', result)\n",
    "#     plot_attention(imgtest[idx_sample], result, attention_plot)"
   ]
  },
  {
   "cell_type": "code",
   "execution_count": 28,
   "metadata": {},
   "outputs": [
    {
     "ename": "ValueError",
     "evalue": "Tensor's shape (3, 3, 1, 64) is not compatible with supplied shape (3, 3, 3, 64)",
     "output_type": "error",
     "traceback": [
      "\u001b[0;31m---------------------------------------------------------------------------\u001b[0m",
      "\u001b[0;31mValueError\u001b[0m                                Traceback (most recent call last)",
      "\u001b[0;32m<ipython-input-28-fc339046f2af>\u001b[0m in \u001b[0;36m<module>\u001b[0;34m\u001b[0m\n\u001b[1;32m     20\u001b[0m     \u001b[0;31m#features = encoder(temp_input)\u001b[0m\u001b[0;34m\u001b[0m\u001b[0;34m\u001b[0m\u001b[0;34m\u001b[0m\u001b[0m\n\u001b[1;32m     21\u001b[0m     \u001b[0;31m#output_, [hidden, c], attention_weights = decoder(features, [hidden, c])\u001b[0m\u001b[0;34m\u001b[0m\u001b[0;34m\u001b[0m\u001b[0;34m\u001b[0m\u001b[0m\n\u001b[0;32m---> 22\u001b[0;31m     \u001b[0moutput_\u001b[0m\u001b[0;34m,\u001b[0m\u001b[0m_\u001b[0m\u001b[0;34m,\u001b[0m \u001b[0mattention_weights\u001b[0m \u001b[0;34m=\u001b[0m \u001b[0mmodel\u001b[0m\u001b[0;34m(\u001b[0m\u001b[0mtemp_input\u001b[0m\u001b[0;34m)\u001b[0m\u001b[0;31m#, [hidden, c])\u001b[0m\u001b[0;34m\u001b[0m\u001b[0;34m\u001b[0m\u001b[0m\n\u001b[0m\u001b[1;32m     23\u001b[0m \u001b[0;34m\u001b[0m\u001b[0m\n\u001b[1;32m     24\u001b[0m     \u001b[0malpha_\u001b[0m \u001b[0;34m=\u001b[0m \u001b[0mattention_weights\u001b[0m\u001b[0;34m[\u001b[0m\u001b[0;34m:\u001b[0m\u001b[0;34m,\u001b[0m\u001b[0;34m:\u001b[0m\u001b[0;34m,\u001b[0m\u001b[0;36m0\u001b[0m\u001b[0;34m]\u001b[0m\u001b[0;34m.\u001b[0m\u001b[0mnumpy\u001b[0m\u001b[0;34m(\u001b[0m\u001b[0;34m)\u001b[0m\u001b[0;34m\u001b[0m\u001b[0;34m\u001b[0m\u001b[0m\n",
      "\u001b[0;32m~/anaconda3/envs/tf2/lib/python3.8/site-packages/tensorflow/python/keras/engine/base_layer.py\u001b[0m in \u001b[0;36m__call__\u001b[0;34m(self, *args, **kwargs)\u001b[0m\n\u001b[1;32m    983\u001b[0m \u001b[0;34m\u001b[0m\u001b[0m\n\u001b[1;32m    984\u001b[0m         \u001b[0;32mwith\u001b[0m \u001b[0mops\u001b[0m\u001b[0;34m.\u001b[0m\u001b[0menable_auto_cast_variables\u001b[0m\u001b[0;34m(\u001b[0m\u001b[0mself\u001b[0m\u001b[0;34m.\u001b[0m\u001b[0m_compute_dtype_object\u001b[0m\u001b[0;34m)\u001b[0m\u001b[0;34m:\u001b[0m\u001b[0;34m\u001b[0m\u001b[0;34m\u001b[0m\u001b[0m\n\u001b[0;32m--> 985\u001b[0;31m           \u001b[0moutputs\u001b[0m \u001b[0;34m=\u001b[0m \u001b[0mcall_fn\u001b[0m\u001b[0;34m(\u001b[0m\u001b[0minputs\u001b[0m\u001b[0;34m,\u001b[0m \u001b[0;34m*\u001b[0m\u001b[0margs\u001b[0m\u001b[0;34m,\u001b[0m \u001b[0;34m**\u001b[0m\u001b[0mkwargs\u001b[0m\u001b[0;34m)\u001b[0m\u001b[0;34m\u001b[0m\u001b[0;34m\u001b[0m\u001b[0m\n\u001b[0m\u001b[1;32m    986\u001b[0m \u001b[0;34m\u001b[0m\u001b[0m\n\u001b[1;32m    987\u001b[0m         \u001b[0;32mif\u001b[0m \u001b[0mself\u001b[0m\u001b[0;34m.\u001b[0m\u001b[0m_activity_regularizer\u001b[0m\u001b[0;34m:\u001b[0m\u001b[0;34m\u001b[0m\u001b[0;34m\u001b[0m\u001b[0m\n",
      "\u001b[0;32m<ipython-input-14-2f245e24f8e8>\u001b[0m in \u001b[0;36mcall\u001b[0;34m(self, input_tensor, **kwargs)\u001b[0m\n\u001b[1;32m     42\u001b[0m     \u001b[0;32mdef\u001b[0m \u001b[0mcall\u001b[0m\u001b[0;34m(\u001b[0m\u001b[0mself\u001b[0m\u001b[0;34m,\u001b[0m \u001b[0minput_tensor\u001b[0m\u001b[0;34m,\u001b[0m \u001b[0;34m**\u001b[0m\u001b[0mkwargs\u001b[0m\u001b[0;34m)\u001b[0m\u001b[0;34m:\u001b[0m\u001b[0;34m\u001b[0m\u001b[0;34m\u001b[0m\u001b[0m\n\u001b[1;32m     43\u001b[0m         \u001b[0;31m#input_x = self.inputs(tensor=input_tensor) -> Input\u001b[0m\u001b[0;34m\u001b[0m\u001b[0;34m\u001b[0m\u001b[0;34m\u001b[0m\u001b[0m\n\u001b[0;32m---> 44\u001b[0;31m         \u001b[0mx\u001b[0m \u001b[0;34m=\u001b[0m \u001b[0mself\u001b[0m\u001b[0;34m.\u001b[0m\u001b[0mconv_1\u001b[0m\u001b[0;34m(\u001b[0m\u001b[0minput_tensor\u001b[0m\u001b[0;34m)\u001b[0m\u001b[0;34m\u001b[0m\u001b[0;34m\u001b[0m\u001b[0m\n\u001b[0m\u001b[1;32m     45\u001b[0m         \u001b[0mx\u001b[0m \u001b[0;34m=\u001b[0m \u001b[0mself\u001b[0m\u001b[0;34m.\u001b[0m\u001b[0mconv_2\u001b[0m\u001b[0;34m(\u001b[0m\u001b[0mx\u001b[0m\u001b[0;34m)\u001b[0m\u001b[0;34m\u001b[0m\u001b[0;34m\u001b[0m\u001b[0m\n\u001b[1;32m     46\u001b[0m         \u001b[0mx\u001b[0m \u001b[0;34m=\u001b[0m \u001b[0mself\u001b[0m\u001b[0;34m.\u001b[0m\u001b[0mconv_3\u001b[0m\u001b[0;34m(\u001b[0m\u001b[0mx\u001b[0m\u001b[0;34m)\u001b[0m\u001b[0;34m\u001b[0m\u001b[0;34m\u001b[0m\u001b[0m\n",
      "\u001b[0;32m~/anaconda3/envs/tf2/lib/python3.8/site-packages/tensorflow/python/keras/engine/base_layer.py\u001b[0m in \u001b[0;36m__call__\u001b[0;34m(self, *args, **kwargs)\u001b[0m\n\u001b[1;32m    980\u001b[0m       \u001b[0;32mwith\u001b[0m \u001b[0mops\u001b[0m\u001b[0;34m.\u001b[0m\u001b[0mname_scope_v2\u001b[0m\u001b[0;34m(\u001b[0m\u001b[0mname_scope\u001b[0m\u001b[0;34m)\u001b[0m\u001b[0;34m:\u001b[0m\u001b[0;34m\u001b[0m\u001b[0;34m\u001b[0m\u001b[0m\n\u001b[1;32m    981\u001b[0m         \u001b[0;32mif\u001b[0m \u001b[0;32mnot\u001b[0m \u001b[0mself\u001b[0m\u001b[0;34m.\u001b[0m\u001b[0mbuilt\u001b[0m\u001b[0;34m:\u001b[0m\u001b[0;34m\u001b[0m\u001b[0;34m\u001b[0m\u001b[0m\n\u001b[0;32m--> 982\u001b[0;31m           \u001b[0mself\u001b[0m\u001b[0;34m.\u001b[0m\u001b[0m_maybe_build\u001b[0m\u001b[0;34m(\u001b[0m\u001b[0minputs\u001b[0m\u001b[0;34m)\u001b[0m\u001b[0;34m\u001b[0m\u001b[0;34m\u001b[0m\u001b[0m\n\u001b[0m\u001b[1;32m    983\u001b[0m \u001b[0;34m\u001b[0m\u001b[0m\n\u001b[1;32m    984\u001b[0m         \u001b[0;32mwith\u001b[0m \u001b[0mops\u001b[0m\u001b[0;34m.\u001b[0m\u001b[0menable_auto_cast_variables\u001b[0m\u001b[0;34m(\u001b[0m\u001b[0mself\u001b[0m\u001b[0;34m.\u001b[0m\u001b[0m_compute_dtype_object\u001b[0m\u001b[0;34m)\u001b[0m\u001b[0;34m:\u001b[0m\u001b[0;34m\u001b[0m\u001b[0;34m\u001b[0m\u001b[0m\n",
      "\u001b[0;32m~/anaconda3/envs/tf2/lib/python3.8/site-packages/tensorflow/python/keras/engine/base_layer.py\u001b[0m in \u001b[0;36m_maybe_build\u001b[0;34m(self, inputs)\u001b[0m\n\u001b[1;32m   2641\u001b[0m         \u001b[0;31m# operations.\u001b[0m\u001b[0;34m\u001b[0m\u001b[0;34m\u001b[0m\u001b[0;34m\u001b[0m\u001b[0m\n\u001b[1;32m   2642\u001b[0m         \u001b[0;32mwith\u001b[0m \u001b[0mtf_utils\u001b[0m\u001b[0;34m.\u001b[0m\u001b[0mmaybe_init_scope\u001b[0m\u001b[0;34m(\u001b[0m\u001b[0mself\u001b[0m\u001b[0;34m)\u001b[0m\u001b[0;34m:\u001b[0m\u001b[0;34m\u001b[0m\u001b[0;34m\u001b[0m\u001b[0m\n\u001b[0;32m-> 2643\u001b[0;31m           \u001b[0mself\u001b[0m\u001b[0;34m.\u001b[0m\u001b[0mbuild\u001b[0m\u001b[0;34m(\u001b[0m\u001b[0minput_shapes\u001b[0m\u001b[0;34m)\u001b[0m  \u001b[0;31m# pylint:disable=not-callable\u001b[0m\u001b[0;34m\u001b[0m\u001b[0;34m\u001b[0m\u001b[0m\n\u001b[0m\u001b[1;32m   2644\u001b[0m       \u001b[0;31m# We must set also ensure that the layer is marked as built, and the build\u001b[0m\u001b[0;34m\u001b[0m\u001b[0;34m\u001b[0m\u001b[0;34m\u001b[0m\u001b[0m\n\u001b[1;32m   2645\u001b[0m       \u001b[0;31m# shape is stored since user defined build functions may not be calling\u001b[0m\u001b[0;34m\u001b[0m\u001b[0;34m\u001b[0m\u001b[0;34m\u001b[0m\u001b[0m\n",
      "\u001b[0;32m~/anaconda3/envs/tf2/lib/python3.8/site-packages/tensorflow/python/keras/layers/convolutional.py\u001b[0m in \u001b[0;36mbuild\u001b[0;34m(self, input_shape)\u001b[0m\n\u001b[1;32m    195\u001b[0m                                        self.filters)\n\u001b[1;32m    196\u001b[0m \u001b[0;34m\u001b[0m\u001b[0m\n\u001b[0;32m--> 197\u001b[0;31m     self.kernel = self.add_weight(\n\u001b[0m\u001b[1;32m    198\u001b[0m         \u001b[0mname\u001b[0m\u001b[0;34m=\u001b[0m\u001b[0;34m'kernel'\u001b[0m\u001b[0;34m,\u001b[0m\u001b[0;34m\u001b[0m\u001b[0;34m\u001b[0m\u001b[0m\n\u001b[1;32m    199\u001b[0m         \u001b[0mshape\u001b[0m\u001b[0;34m=\u001b[0m\u001b[0mkernel_shape\u001b[0m\u001b[0;34m,\u001b[0m\u001b[0;34m\u001b[0m\u001b[0;34m\u001b[0m\u001b[0m\n",
      "\u001b[0;32m~/anaconda3/envs/tf2/lib/python3.8/site-packages/tensorflow/python/keras/engine/base_layer.py\u001b[0m in \u001b[0;36madd_weight\u001b[0;34m(self, name, shape, dtype, initializer, regularizer, trainable, constraint, partitioner, use_resource, synchronization, aggregation, **kwargs)\u001b[0m\n\u001b[1;32m    595\u001b[0m         \u001b[0mcaching_device\u001b[0m \u001b[0;34m=\u001b[0m \u001b[0;32mNone\u001b[0m\u001b[0;34m\u001b[0m\u001b[0;34m\u001b[0m\u001b[0m\n\u001b[1;32m    596\u001b[0m \u001b[0;34m\u001b[0m\u001b[0m\n\u001b[0;32m--> 597\u001b[0;31m     variable = self._add_variable_with_custom_getter(\n\u001b[0m\u001b[1;32m    598\u001b[0m         \u001b[0mname\u001b[0m\u001b[0;34m=\u001b[0m\u001b[0mname\u001b[0m\u001b[0;34m,\u001b[0m\u001b[0;34m\u001b[0m\u001b[0;34m\u001b[0m\u001b[0m\n\u001b[1;32m    599\u001b[0m         \u001b[0mshape\u001b[0m\u001b[0;34m=\u001b[0m\u001b[0mshape\u001b[0m\u001b[0;34m,\u001b[0m\u001b[0;34m\u001b[0m\u001b[0;34m\u001b[0m\u001b[0m\n",
      "\u001b[0;32m~/anaconda3/envs/tf2/lib/python3.8/site-packages/tensorflow/python/training/tracking/base.py\u001b[0m in \u001b[0;36m_add_variable_with_custom_getter\u001b[0;34m(self, name, shape, dtype, initializer, getter, overwrite, **kwargs_for_getter)\u001b[0m\n\u001b[1;32m    728\u001b[0m         \u001b[0;31m# then assigning (when executing eagerly). This call returns None if\u001b[0m\u001b[0;34m\u001b[0m\u001b[0;34m\u001b[0m\u001b[0;34m\u001b[0m\u001b[0m\n\u001b[1;32m    729\u001b[0m         \u001b[0;31m# there is nothing to restore.\u001b[0m\u001b[0;34m\u001b[0m\u001b[0;34m\u001b[0m\u001b[0;34m\u001b[0m\u001b[0m\n\u001b[0;32m--> 730\u001b[0;31m         checkpoint_initializer = self._preload_simple_restoration(\n\u001b[0m\u001b[1;32m    731\u001b[0m             name=name, shape=shape)\n\u001b[1;32m    732\u001b[0m       \u001b[0;32melse\u001b[0m\u001b[0;34m:\u001b[0m\u001b[0;34m\u001b[0m\u001b[0;34m\u001b[0m\u001b[0m\n",
      "\u001b[0;32m~/anaconda3/envs/tf2/lib/python3.8/site-packages/tensorflow/python/training/tracking/base.py\u001b[0m in \u001b[0;36m_preload_simple_restoration\u001b[0;34m(self, name, shape)\u001b[0m\n\u001b[1;32m    795\u001b[0m         \u001b[0mdeferred_dependencies_list\u001b[0m\u001b[0;34m,\u001b[0m\u001b[0;34m\u001b[0m\u001b[0;34m\u001b[0m\u001b[0m\n\u001b[1;32m    796\u001b[0m         key=lambda restore: restore.checkpoint.restore_uid)\n\u001b[0;32m--> 797\u001b[0;31m     return CheckpointInitialValue(\n\u001b[0m\u001b[1;32m    798\u001b[0m         checkpoint_position=checkpoint_position, shape=shape)\n\u001b[1;32m    799\u001b[0m \u001b[0;34m\u001b[0m\u001b[0m\n",
      "\u001b[0;32m~/anaconda3/envs/tf2/lib/python3.8/site-packages/tensorflow/python/training/tracking/base.py\u001b[0m in \u001b[0;36m__init__\u001b[0;34m(self, checkpoint_position, shape)\u001b[0m\n\u001b[1;32m     73\u001b[0m       \u001b[0;31m# We need to set the static shape information on the initializer if\u001b[0m\u001b[0;34m\u001b[0m\u001b[0;34m\u001b[0m\u001b[0;34m\u001b[0m\u001b[0m\n\u001b[1;32m     74\u001b[0m       \u001b[0;31m# possible so we don't get a variable with an unknown shape.\u001b[0m\u001b[0;34m\u001b[0m\u001b[0;34m\u001b[0m\u001b[0;34m\u001b[0m\u001b[0m\n\u001b[0;32m---> 75\u001b[0;31m       \u001b[0mself\u001b[0m\u001b[0;34m.\u001b[0m\u001b[0mwrapped_value\u001b[0m\u001b[0;34m.\u001b[0m\u001b[0mset_shape\u001b[0m\u001b[0;34m(\u001b[0m\u001b[0mshape\u001b[0m\u001b[0;34m)\u001b[0m\u001b[0;34m\u001b[0m\u001b[0;34m\u001b[0m\u001b[0m\n\u001b[0m\u001b[1;32m     76\u001b[0m     \u001b[0mself\u001b[0m\u001b[0;34m.\u001b[0m\u001b[0m_checkpoint_position\u001b[0m \u001b[0;34m=\u001b[0m \u001b[0mcheckpoint_position\u001b[0m\u001b[0;34m\u001b[0m\u001b[0;34m\u001b[0m\u001b[0m\n\u001b[1;32m     77\u001b[0m \u001b[0;34m\u001b[0m\u001b[0m\n",
      "\u001b[0;32m~/anaconda3/envs/tf2/lib/python3.8/site-packages/tensorflow/python/framework/ops.py\u001b[0m in \u001b[0;36mset_shape\u001b[0;34m(self, shape)\u001b[0m\n\u001b[1;32m   1205\u001b[0m   \u001b[0;32mdef\u001b[0m \u001b[0mset_shape\u001b[0m\u001b[0;34m(\u001b[0m\u001b[0mself\u001b[0m\u001b[0;34m,\u001b[0m \u001b[0mshape\u001b[0m\u001b[0;34m)\u001b[0m\u001b[0;34m:\u001b[0m\u001b[0;34m\u001b[0m\u001b[0;34m\u001b[0m\u001b[0m\n\u001b[1;32m   1206\u001b[0m     \u001b[0;32mif\u001b[0m \u001b[0;32mnot\u001b[0m \u001b[0mself\u001b[0m\u001b[0;34m.\u001b[0m\u001b[0mshape\u001b[0m\u001b[0;34m.\u001b[0m\u001b[0mis_compatible_with\u001b[0m\u001b[0;34m(\u001b[0m\u001b[0mshape\u001b[0m\u001b[0;34m)\u001b[0m\u001b[0;34m:\u001b[0m\u001b[0;34m\u001b[0m\u001b[0;34m\u001b[0m\u001b[0m\n\u001b[0;32m-> 1207\u001b[0;31m       raise ValueError(\n\u001b[0m\u001b[1;32m   1208\u001b[0m           \u001b[0;34m\"Tensor's shape %s is not compatible with supplied shape %s\"\u001b[0m \u001b[0;34m%\u001b[0m\u001b[0;34m\u001b[0m\u001b[0;34m\u001b[0m\u001b[0m\n\u001b[1;32m   1209\u001b[0m           (self.shape, shape))\n",
      "\u001b[0;31mValueError\u001b[0m: Tensor's shape (3, 3, 1, 64) is not compatible with supplied shape (3, 3, 3, 64)"
     ]
    }
   ],
   "source": [
    "# Sampling test indexes\n",
    "idx = random.sample(range(test_x.shape[0]), num_test_sample)\n",
    "\n",
    "# Initialize fraction of test images and heatmap\n",
    "\n",
    "num_correct = 0.\n",
    "#import matplotlib.image as mpimg\n",
    "\n",
    "# Test for Sampling data\n",
    "for idx_sample in range(num_test_sample):\n",
    "    # Get alpha(weight of fractions) and output for sample test data\n",
    "    test_x_reshape = np.reshape(test_x, ([test_x.shape[0],IMG_SIZE,IMG_SIZE,3]))\n",
    "    #test_x_in = test_x_reshape[idx[idx_sample],:,:,:]\n",
    "    test_x_in = test_x_reshape[idx_sample,:,:,:]\n",
    "    \n",
    "    #hidden = model.reset_state(batch_size=1)\n",
    "    #c = model.reset_state(batch_size=1)\n",
    "\n",
    "    temp_input = tf.expand_dims(test_x_in, 0)\n",
    "    #features = encoder(temp_input)\n",
    "    #output_, [hidden, c], attention_weights = decoder(features, [hidden, c])\n",
    "    output_,_, attention_weights = model(temp_input)#, [hidden, c])\n",
    "\n",
    "    alpha_ = attention_weights[:,:,0].numpy()\n",
    "    predictions = tf.nn.softmax(output_).numpy()\n",
    "    #alpha_, output_ = sess.run([alpha, output],feed_dict = {x_image: [test_x_in], y_target: [test_y[idx[idx_sample],:]]})\n",
    "    \n",
    "    #alpha_, output_ = sess.run([alpha, output],feed_dict = {x_image: [test_x_in], y_target: [test_y[idx_sample,:]]})\n",
    "    alpha_size = int(np.sqrt(alpha_.shape[1]))\n",
    "    alpha_reshape = np.reshape(alpha_, (alpha_size, alpha_size))\n",
    "    alpha_resize = skimage.transform.pyramid_expand(alpha_reshape, upscale = 16, sigma=20)  \n",
    "#     print(np.max(alpha_resize), np.min(alpha_resize))\n",
    "#     print(np.max(test_x), np.min(test_x))\n",
    "#     print(predictions)\n",
    "\n",
    "# Get labels for test samples\n",
    "    y_test_pred = np.argmax(predictions[0][:])\n",
    "    y_test_true = np.argmax(test_y[idx_sample, :])\n",
    "    \n",
    "    # Draw subplot for each sample \n",
    "    f1, ax = plt.subplots(1,2)\n",
    "    ax[0].imshow(alpha_resize, cmap='gray')\n",
    "    ax[0].axis(\"off\")\n",
    "    ax[0].set_title('Attention Heatmap')\n",
    "    ax[1].imshow(test_x_in, cmap='gray')\n",
    "    ax[1].axis(\"off\")\n",
    "    ax[1].set_title('Prediction: ' + str(y_test_pred) + ' / ' + 'Label: ' + str(y_test_true))\n",
    "\n",
    "    # Count correct\n",
    "    if y_test_pred == y_test_true:\n",
    "        num_correct += 1.\n",
    "    \n",
    "    #print(np.max(alpha_resize), np.min(alpha_resize))\n",
    "\n",
    "# Show results \n",
    "#print(np.max(alpha_resize), np.min(alpha_resize))\n",
    "plt.show()\n",
    "print('Sample Accuracy: ' + str(num_correct / num_test_sample))"
   ]
  },
  {
   "cell_type": "code",
   "execution_count": null,
   "metadata": {},
   "outputs": [],
   "source": [
    "model.summary()"
   ]
  },
  {
   "cell_type": "code",
   "execution_count": null,
   "metadata": {},
   "outputs": [],
   "source": [
    "for layer in model.layers:\n",
    "    print(layer.name, layer.trainable)"
   ]
  },
  {
   "cell_type": "code",
   "execution_count": null,
   "metadata": {
    "scrolled": true
   },
   "outputs": [],
   "source": [
    "w = model.layers[1]\n",
    "print(w)"
   ]
  },
  {
   "cell_type": "code",
   "execution_count": null,
   "metadata": {},
   "outputs": [],
   "source": [
    "from tensorflow.keras.models import Model\n",
    "from tensorflow.keras.layers import Dense\n",
    "\n",
    "class CustomModel(Model):\n",
    "    def __init__(self, **kwargs):\n",
    "        super(CustomModel, self).__init__(**kwargs)\n",
    "        self.dense1 = Dense(5, activation='relu', )\n",
    "        self.dense2 = Dense(10, activation='relu')\n",
    "        self.dense3 = Dense(3, activation='softmax')\n",
    "        \n",
    "    def call(self, inputs):\n",
    "        x = self.dense1(inputs)\n",
    "        x = self.dense2(x)\n",
    "        return self.dense3(x)\n",
    "\n",
    "my_custom_model = CustomModel(name='my_custom_model')"
   ]
  },
  {
   "cell_type": "code",
   "execution_count": null,
   "metadata": {},
   "outputs": [],
   "source": [
    "my_custom_model.compile(optimizer='rmsprop', loss='categorical_crossentropy', metrics=['accuracy'])"
   ]
  }
 ],
 "metadata": {
  "colab": {
   "collapsed_sections": [],
   "name": "MNIST Soft Attention",
   "provenance": []
  },
  "kernelspec": {
   "display_name": "Python 3",
   "language": "python",
   "name": "python3"
  },
  "language_info": {
   "codemirror_mode": {
    "name": "ipython",
    "version": 3
   },
   "file_extension": ".py",
   "mimetype": "text/x-python",
   "name": "python",
   "nbconvert_exporter": "python",
   "pygments_lexer": "ipython3",
   "version": "3.8.5"
  }
 },
 "nbformat": 4,
 "nbformat_minor": 1
}
